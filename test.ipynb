{
 "cells": [
  {
   "cell_type": "code",
   "execution_count": 1,
   "metadata": {},
   "outputs": [],
   "source": [
    "import numpy as np\n",
    "import pandas as pd\n",
    "from sklearn.datasets import load_wine\n",
    "from sklearn.model_selection import train_test_split\n",
    "from decision_tree import DecisionTree"
   ]
  },
  {
   "cell_type": "code",
   "execution_count": 2,
   "metadata": {},
   "outputs": [],
   "source": [
    "data = load_wine()\n",
    "X, y = data.data, data.target\n",
    "X_train, X_test, y_train, y_test = train_test_split(X,y, test_size=0.2, random_state=3)"
   ]
  },
  {
   "cell_type": "code",
   "execution_count": 3,
   "metadata": {},
   "outputs": [
    {
     "name": "stdout",
     "output_type": "stream",
     "text": [
      "    Max depth  Min samples split  Accuracy\n",
      "0           1                  2  0.611111\n",
      "1           1                  5  0.611111\n",
      "2           1                 10  0.611111\n",
      "3           2                  2  0.888889\n",
      "4           2                  5  0.888889\n",
      "5           2                 10  0.888889\n",
      "6           3                  2  0.972222\n",
      "7           3                  5  0.972222\n",
      "8           3                 10  0.972222\n",
      "9           4                  2  1.000000\n",
      "10          4                  5  0.972222\n",
      "11          4                 10  0.972222\n",
      "12          5                  2  1.000000\n",
      "13          5                  5  0.972222\n",
      "14          5                 10  0.972222\n"
     ]
    }
   ],
   "source": [
    "results = []\n",
    "for depth in range(1,6):\n",
    "    for min_samples in [2, 5, 10]:\n",
    "        model = DecisionTree(X_train, y_train, max_depth=depth, min_samples_split=min_samples)\n",
    "        model.fit()\n",
    "        pred = model.predict(X_test)\n",
    "        accuracy = np.mean(pred == y_test)\n",
    "\n",
    "        results.append({\n",
    "            'Max depth': depth,\n",
    "            'Min samples split': min_samples,\n",
    "            'Accuracy': accuracy\n",
    "        })\n",
    "\n",
    "df = pd.DataFrame(results)\n",
    "print(df)"
   ]
  }
 ],
 "metadata": {
  "kernelspec": {
   "display_name": "Python 3",
   "language": "python",
   "name": "python3"
  },
  "language_info": {
   "codemirror_mode": {
    "name": "ipython",
    "version": 3
   },
   "file_extension": ".py",
   "mimetype": "text/x-python",
   "name": "python",
   "nbconvert_exporter": "python",
   "pygments_lexer": "ipython3",
   "version": "3.9.13"
  }
 },
 "nbformat": 4,
 "nbformat_minor": 2
}
